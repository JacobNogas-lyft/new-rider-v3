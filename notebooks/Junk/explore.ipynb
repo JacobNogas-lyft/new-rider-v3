{
 "cells": [
  {
   "cell_type": "code",
   "execution_count": 1,
   "id": "11e639f8-340a-4c16-8681-0677e2c3e8bc",
   "metadata": {},
   "outputs": [
    {
     "name": "stdout",
     "output_type": "stream",
     "text": [
      "\n"
     ]
    }
   ],
   "source": [
    "print()"
   ]
  },
  {
   "cell_type": "code",
   "execution_count": 1,
   "id": "7559ff11",
   "metadata": {},
   "outputs": [],
   "source": [
    "import os\n",
    "import sys\n",
    "\n",
    "sys.path.insert(0, os.path.abspath('/home/sagemaker-user/studio/src'))\n",
    "sys.path.insert(0, os.path.abspath('/home/sagemaker-user/studio/src/offeringsmxmodels'))\n",
    "\n",
    "from models.main.common.data_utils import query_data"
   ]
  },
  {
   "cell_type": "code",
   "execution_count": null,
   "id": "3515db2f",
   "metadata": {},
   "outputs": [],
   "source": [
    "query_path= '/home/sagemaker-user/studio/src/new-rider-v3/queries/simple_test.sql'\n",
    "query_params = {}\n",
    "\n",
    "query_data()"
   ]
  },
  {
   "cell_type": "code",
   "execution_count": null,
   "id": "8754582d",
   "metadata": {},
   "outputs": [],
   "source": [
    "DataPreparationParams(\n",
    "    query_path='/home/sagemaker-user/studio/src/offeringsmxmodels/models/main/relevance/queries/finished_rides_with_scores_v6.sql', \n",
    "    query_params={'ds_from': '2024-10-02', 'eval_ds_from': '2024-10-23', 'ds_to': '2024-10-29', 'not_null_col': 'unique_ride_active_days_28d', \n",
    "                  'model_name': 'offeringsmxmodels_relevance_ranking_model', \n",
    "                  'model_version': '4.2.6', 'limit': 1000000, \n",
    "                  'cost_minor_column': \n",
    "                  'final_user_facing_upfront_cost_minor_units'}, \n",
    "                  s3_dir='s3://lyft-fugue-cache/expire/30d/relevance_model/vduzhik/test_v6/2024-10-30', \n",
    "                  lyft_distributed_config={'cluster': '256*16*8g'}, eval_ds_from='2024-10-23')import sys\n"
   ]
  }
 ],
 "metadata": {
  "kernelspec": {
   "display_name": "venv_offerings_new_rider_v3",
   "language": "python",
   "name": "python3"
  },
  "language_info": {
   "codemirror_mode": {
    "name": "ipython",
    "version": 3
   },
   "file_extension": ".py",
   "mimetype": "text/x-python",
   "name": "python",
   "nbconvert_exporter": "python",
   "pygments_lexer": "ipython3",
   "version": "3.10.12"
  }
 },
 "nbformat": 4,
 "nbformat_minor": 5
}
