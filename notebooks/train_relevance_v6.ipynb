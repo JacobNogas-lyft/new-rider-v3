{
 "cells": [
  {
   "cell_type": "code",
   "execution_count": null,
   "id": "477f2fcc",
   "metadata": {
    "ExecuteTime": {
     "end_time": "2024-08-16T02:37:43.488506Z",
     "start_time": "2024-08-16T02:37:43.485219Z"
    }
   },
   "outputs": [],
   "source": [
    "import sys\n",
    "\n",
    "OFFERINGS_MX_MODELS_PATH = '/mnt/user-home/code/offeringsmxmodels'\n",
    "sys.path.insert(0, OFFERINGS_MX_MODELS_PATH)\n"
   ]
  },
  {
   "cell_type": "code",
   "execution_count": 2,
   "id": "54ae9542",
   "metadata": {
    "ExecuteTime": {
     "end_time": "2024-08-16T02:37:44.330577Z",
     "start_time": "2024-08-16T02:37:44.294030Z"
    }
   },
   "outputs": [],
   "source": [
    "%load_ext autoreload\n",
    "%autoreload 2"
   ]
  },
  {
   "cell_type": "code",
   "execution_count": null,
   "id": "2ab33bae",
   "metadata": {},
   "outputs": [],
   "source": []
  },
  {
   "cell_type": "code",
   "execution_count": 3,
   "id": "96e297e4",
   "metadata": {
    "ExecuteTime": {
     "end_time": "2024-09-11T03:28:34.955631Z",
     "start_time": "2024-09-11T03:14:14.338141Z"
    },
    "scrolled": true
   },
   "outputs": [
    {
     "ename": "ModuleNotFoundError",
     "evalue": "No module named 'models'",
     "output_type": "error",
     "traceback": [
      "\u001b[0;31m---------------------------------------------------------------------------\u001b[0m",
      "\u001b[0;31mModuleNotFoundError\u001b[0m                       Traceback (most recent call last)",
      "Cell \u001b[0;32mIn[3], line 1\u001b[0m\n\u001b[0;32m----> 1\u001b[0m \u001b[38;5;28;01mfrom\u001b[39;00m \u001b[38;5;21;01mmodels\u001b[39;00m\u001b[38;5;21;01m.\u001b[39;00m\u001b[38;5;21;01mmain\u001b[39;00m\u001b[38;5;21;01m.\u001b[39;00m\u001b[38;5;21;01mrelevance\u001b[39;00m\u001b[38;5;21;01m.\u001b[39;00m\u001b[38;5;21;01mrelevance_model_v6\u001b[39;00m \u001b[38;5;28;01mimport\u001b[39;00m Model\n\u001b[1;32m      2\u001b[0m \u001b[38;5;28;01mfrom\u001b[39;00m \u001b[38;5;21;01mmodels\u001b[39;00m\u001b[38;5;21;01m.\u001b[39;00m\u001b[38;5;21;01mmain\u001b[39;00m\u001b[38;5;21;01m.\u001b[39;00m\u001b[38;5;21;01mrelevance\u001b[39;00m\u001b[38;5;21;01m.\u001b[39;00m\u001b[38;5;21;01mlibrary\u001b[39;00m\u001b[38;5;21;01m.\u001b[39;00m\u001b[38;5;21;01mlls_hyperparameters\u001b[39;00m \u001b[38;5;28;01mimport\u001b[39;00m RELEVANCE_MODEL_LLS_HYPERPARAMETERS\n\u001b[1;32m      4\u001b[0m hp \u001b[38;5;241m=\u001b[39m {\n\u001b[1;32m      5\u001b[0m     row[\u001b[38;5;124m'\u001b[39m\u001b[38;5;124mname\u001b[39m\u001b[38;5;124m'\u001b[39m]: row[\u001b[38;5;124m'\u001b[39m\u001b[38;5;124mdefault_value\u001b[39m\u001b[38;5;124m'\u001b[39m]\n\u001b[1;32m      6\u001b[0m     \u001b[38;5;28;01mfor\u001b[39;00m row \u001b[38;5;129;01min\u001b[39;00m RELEVANCE_MODEL_LLS_HYPERPARAMETERS\n\u001b[1;32m      7\u001b[0m } \n",
      "\u001b[0;31mModuleNotFoundError\u001b[0m: No module named 'models'"
     ]
    }
   ],
   "source": [
    "from models.main.relevance.relevance_model_v6 import Model\n",
    "from models.main.relevance.library.lls_hyperparameters import RELEVANCE_MODEL_LLS_HYPERPARAMETERS\n",
    "\n",
    "hp = {\n",
    "    row['name']: row['default_value']\n",
    "    for row in RELEVANCE_MODEL_LLS_HYPERPARAMETERS\n",
    "} \n",
    "hp['s3_dir'] += 'vduzhik/test_v6'\n",
    "hp['in_notebook'] = True\n",
    "hp['total_rows_limit'] = 1_000_000\n"
   ]
  },
  {
   "cell_type": "code",
   "execution_count": null,
   "id": "119b7a48-2f7d-43a5-95fa-ee3f329a3825",
   "metadata": {
    "scrolled": true
   },
   "outputs": [
    {
     "name": "stdout",
     "output_type": "stream",
     "text": [
      "Preparing datasets\n"
     ]
    },
    {
     "name": "stderr",
     "output_type": "stream",
     "text": [
      "24/11/02 00:36:16 INFO Client: Verifying our application has not requested more than the maximum memory capability of the cluster (656800 MB per container)\n",
      "24/11/02 00:36:16 INFO Client: Will allocate AM container, with 896 MB memory including 384 MB overhead\n",
      "24/11/02 00:36:16 INFO Client: Setting up container launch context for our AM\n",
      "24/11/02 00:36:16 INFO Client: Setting up the launch environment for our AM container\n",
      "24/11/02 00:36:16 INFO Client: Preparing resources for our AM container\n",
      "24/11/02 00:36:16 INFO Client: Adding binary from location: s3://spark-s3committer-production/archive/aad31e09cc6236216333860fc2c60a679348cb3e5a5c9e47850ba07b7bd35f7f.tgz to the distributed cache\n",
      "24/11/02 00:36:16 INFO Client: Uploading resource file:/run/secrets/eks.amazonaws.com/serviceaccount/..2024_11_01_22_56_05.649891804/token -> s3a://spark-s3committer-production/user/root/.sparkStaging/application_1730310995018_198646/token\n",
      "24/11/02 00:36:17 INFO Client: Uploading resource file:/opt/spark/conf2/executor-log4j2.properties#log4j2.properties -> s3a://spark-s3committer-production/user/root/.sparkStaging/application_1730310995018_198646/executor-log4j2.properties\n",
      "24/11/02 00:36:17 INFO Client: Adding binary from location: s3://lyft-infra/datainfra/dist/spark/pyspark/pyspark-3.3.1-3ffdc3ff33f8b2bda7c18b7d2cddd97d77f00f47.zip to the distributed cache\n",
      "24/11/02 00:36:17 INFO Client: Uploading resource file:/tmp/spark-bf50f6ed-1f75-45c2-9b77-0d747fef7d2d/__spark_conf__848640646649125191.zip -> s3a://spark-s3committer-production/user/root/.sparkStaging/application_1730310995018_198646/__spark_conf__.zip\n",
      "24/11/02 00:36:17 INFO Client: Submitting application application_1730310995018_198646 to ResourceManager\n",
      "24/11/02 00:36:18 INFO Client: Application report for application_1730310995018_198646 (state: ACCEPTED)\n",
      "24/11/02 00:36:18 INFO Client: \n",
      "\t client token: N/A\n",
      "\t diagnostics: N/A\n",
      "\t ApplicationMaster host: N/A\n",
      "\t ApplicationMaster RPC port: -1\n",
      "\t queue: root.medium.ll_vduzhik\n",
      "\t start time: 1730507777858\n",
      "\t final status: UNDEFINED\n",
      "\t tracking URL: http://resourcemanager-c4af3-0.resourcemanager-c4af3.spark-prod1.svc.cluster.local:8088/proxy/application_1730310995018_198646/\n",
      "\t user: root\n",
      "24/11/02 00:36:19 INFO Client: Application report for application_1730310995018_198646 (state: ACCEPTED)\n",
      "24/11/02 00:36:20 INFO Client: Application report for application_1730310995018_198646 (state: ACCEPTED)\n",
      "24/11/02 00:36:21 INFO Client: Application report for application_1730310995018_198646 (state: ACCEPTED)\n",
      "24/11/02 00:36:22 INFO Client: Application report for application_1730310995018_198646 (state: ACCEPTED)\n",
      "24/11/02 00:36:23 INFO Client: Application report for application_1730310995018_198646 (state: ACCEPTED)\n",
      "24/11/02 00:36:24 INFO Client: Application report for application_1730310995018_198646 (state: ACCEPTED)\n",
      "24/11/02 00:36:25 INFO Client: Application report for application_1730310995018_198646 (state: ACCEPTED)\n",
      "24/11/02 00:36:26 INFO Client: Application report for application_1730310995018_198646 (state: ACCEPTED)\n",
      "24/11/02 00:36:27 INFO Client: Application report for application_1730310995018_198646 (state: RUNNING)\n",
      "24/11/02 00:36:27 INFO Client: \n",
      "\t client token: N/A\n",
      "\t diagnostics: N/A\n",
      "\t ApplicationMaster host: 10.49.101.222\n",
      "\t ApplicationMaster RPC port: -1\n",
      "\t queue: root.medium.ll_vduzhik\n",
      "\t start time: 1730507777858\n",
      "\t final status: UNDEFINED\n",
      "\t tracking URL: http://resourcemanager-c4af3-0.resourcemanager-c4af3.spark-prod1.svc.cluster.local:8088/proxy/application_1730310995018_198646/\n",
      "\t user: root\n",
      "24/11/02 00:36:28 WARN SQLConf: The SQL config 'spark.sql.execution.arrow.enabled' has been deprecated in Spark v3.0 and may be removed in the future. Use 'spark.sql.execution.arrow.pyspark.enabled' instead of it.\n",
      "24/11/02 00:36:28 WARN SQLConf: The SQL config 'spark.sql.execution.arrow.enabled' has been deprecated in Spark v3.0 and may be removed in the future. Use 'spark.sql.execution.arrow.pyspark.enabled' instead of it.\n"
     ]
    },
    {
     "name": "stdout",
     "output_type": "stream",
     "text": [
      "Trying to load data from s3: s3://lyft-fugue-cache/expire/30d/relevance_model/vduzhik/test_v6/2024-10-30/b1835d92d3799be65e7d1afd969e0902.parquet\n",
      "ReadParquet completed in: 8.845 sec\n"
     ]
    },
    {
     "data": {
      "text/html": [
       "\n",
       "                    <br>\n",
       "                    <div align=\"right\" style='background-color:#FFFFDD;color:#888888'>\n",
       "                    <small><b>\n",
       "                    <a href='http://spark-history.ingress.sonata-prod-1.us-east-1.k8s.lyft.net/history/application_1730310995018_198646'>Spark history log</a> for application_1730310995018_198646 is available shortly\n",
       "                    </small></b></div>"
      ],
      "text/plain": [
       "<IPython.core.display.HTML object>"
      ]
     },
     "metadata": {},
     "output_type": "display_data"
    },
    {
     "name": "stdout",
     "output_type": "stream",
     "text": [
      "Splitting data to train/test\n",
      "done splitting data\n",
      "Training Data:  0.74 million samples\n",
      "Validation Data:  0.13 million samples\n",
      "Test Data:  0.13 million samples\n",
      "Training model\n",
      "Preprocessing training data for training\n",
      "standard:  0.74 million rows\n",
      "standard_saver:  0.68 million rows\n",
      "fastpass:  0.66 million rows\n",
      "green:  0.14 million rows\n",
      "plus:  0.72 million rows\n",
      "premium:  0.66 million rows\n",
      "lux:  0.58 million rows\n",
      "luxsuv:  0.55 million rows\n",
      "dockless_scooter:  0.09 million rows\n",
      "dock_only_electric_bike:  0.06 million rows\n",
      "dockable_or_dockless_electric_bike:  0.07 million rows\n",
      "dock_only_pedal_bike:  0.11 million rows\n",
      "courier_reserve:  0.00 million rows\n",
      "full data:  5.08 million rows\n",
      "Preprocessing validation data for training\n",
      "standard:  0.13 million rows\n",
      "standard_saver:  0.12 million rows\n",
      "fastpass:  0.12 million rows\n",
      "green:  0.03 million rows\n",
      "plus:  0.13 million rows\n",
      "premium:  0.12 million rows\n",
      "lux:  0.10 million rows\n",
      "luxsuv:  0.10 million rows\n",
      "dockless_scooter:  0.02 million rows\n",
      "dock_only_electric_bike:  0.01 million rows\n",
      "dockable_or_dockless_electric_bike:  0.01 million rows\n",
      "dock_only_pedal_bike:  0.02 million rows\n",
      "courier_reserve:  0.00 million rows\n",
      "full data:  0.89 million rows\n",
      "Training model...\n",
      "[LightGBM] [Warning] Unknown parameter: eval_frequency\n",
      "[LightGBM] [Warning] Unknown parameter: max_position\n",
      "[LightGBM] [Info] Calculating query weights...\n",
      "[LightGBM] [Warning] Unknown parameter: eval_frequency\n",
      "[LightGBM] [Warning] Unknown parameter: max_position\n",
      "[LightGBM] [Info] Total groups: 740236, total data: 5075605\n",
      "[LightGBM] [Info] Auto-choosing row-wise multi-threading, the overhead of testing was 0.530210 seconds.\n",
      "You can set `force_row_wise=true` to remove the overhead.\n",
      "And if memory is not enough, you can set `force_col_wise=true`.\n",
      "[LightGBM] [Info] Total Bins 28109\n",
      "[LightGBM] [Info] Number of data points in the train set: 5075605, number of used features: 158\n",
      "[LightGBM] [Warning] Unknown parameter: eval_frequency\n",
      "[LightGBM] [Warning] Unknown parameter: max_position\n",
      "[LightGBM] [Info] Calculating query weights...\n",
      "[LightGBM] [Info] Total groups: 129849, total data: 893000\n",
      "[20]\ttrain's map@1: 0.764767\ttrain's map@2: 0.846501\ttrain's map@3: 0.862006\ttrain's map@4: 0.865194\ttrain's map@5: 0.866495\ttrain's ndcg@1: 0.7647\ttrain's ndcg@2: 0.867836\ttrain's ndcg@3: 0.891094\ttrain's ndcg@4: 0.896586\ttrain's ndcg@5: 0.899103\teval's map@1: 0.72624\teval's map@2: 0.815274\teval's map@3: 0.834222\teval's map@4: 0.838233\teval's map@5: 0.840473\teval's ndcg@1: 0.726194\teval's ndcg@2: 0.838542\teval's ndcg@3: 0.866964\teval's ndcg@4: 0.873875\teval's ndcg@5: 0.878207\n",
      "[40]\ttrain's map@1: 0.780537\ttrain's map@2: 0.859598\ttrain's map@3: 0.873394\ttrain's map@4: 0.876321\ttrain's map@5: 0.87727\ttrain's ndcg@1: 0.78047\ttrain's ndcg@2: 0.880233\ttrain's ndcg@3: 0.900927\ttrain's ndcg@4: 0.905969\ttrain's ndcg@5: 0.907805\teval's map@1: 0.731236\teval's map@2: 0.819938\teval's map@3: 0.838056\teval's map@4: 0.8422\teval's map@5: 0.844369\teval's ndcg@1: 0.73119\teval's ndcg@2: 0.84312\teval's ndcg@3: 0.870297\teval's ndcg@4: 0.877435\teval's ndcg@5: 0.88163\n",
      "[60]\ttrain's map@1: 0.788485\ttrain's map@2: 0.865994\ttrain's map@3: 0.879192\ttrain's map@4: 0.881839\ttrain's map@5: 0.882574\ttrain's ndcg@1: 0.788418\ttrain's ndcg@2: 0.886223\ttrain's ndcg@3: 0.906019\ttrain's ndcg@4: 0.91058\ttrain's ndcg@5: 0.912001\teval's map@1: 0.731846\teval's map@2: 0.820291\teval's map@3: 0.838516\teval's map@4: 0.842845\teval's map@5: 0.844854\teval's ndcg@1: 0.7318\teval's ndcg@2: 0.843405\teval's ndcg@3: 0.870743\teval's ndcg@4: 0.8782\teval's ndcg@5: 0.882085\n",
      "[80]\ttrain's map@1: 0.8011\ttrain's map@2: 0.874776\ttrain's map@3: 0.887012\ttrain's map@4: 0.889417\ttrain's map@5: 0.890045\ttrain's ndcg@1: 0.801032\ttrain's ndcg@2: 0.894002\ttrain's ndcg@3: 0.912355\ttrain's ndcg@4: 0.916499\ttrain's ndcg@5: 0.917712\teval's map@1: 0.732568\teval's map@2: 0.820902\teval's map@3: 0.838897\teval's map@4: 0.84325\teval's map@5: 0.845262\teval's ndcg@1: 0.732522\teval's ndcg@2: 0.843988\teval's ndcg@3: 0.870979\teval's ndcg@4: 0.878479\teval's ndcg@5: 0.882369\n",
      "[100]\ttrain's map@1: 0.806253\ttrain's map@2: 0.87921\ttrain's map@3: 0.890931\ttrain's map@4: 0.89307\ttrain's map@5: 0.893566\ttrain's ndcg@1: 0.806186\ttrain's ndcg@2: 0.898246\ttrain's ndcg@3: 0.915829\ttrain's ndcg@4: 0.919513\ttrain's ndcg@5: 0.920473\teval's map@1: 0.732164\teval's map@2: 0.820356\teval's map@3: 0.838316\teval's map@4: 0.842837\teval's map@5: 0.84485\teval's ndcg@1: 0.732118\teval's ndcg@2: 0.843404\teval's ndcg@3: 0.870344\teval's ndcg@4: 0.878132\teval's ndcg@5: 0.882026\n",
      "Training model completed in: 67.203 sec\n",
      "Evaluating model\n"
     ]
    }
   ],
   "source": [
    "hp.update({\n",
    "    'weight_plus': 0.7,\n",
    "    'weight_premium': 2.1,\n",
    "    'weight_lux': 8.0,\n",
    "    'weight_luxsuv': 15.0,\n",
    "})\n",
    "\n",
    "model = Model(hp)\n",
    "clf = model.train()\n"
   ]
  },
  {
   "cell_type": "code",
   "execution_count": null,
   "id": "11e639f8-340a-4c16-8681-0677e2c3e8bc",
   "metadata": {},
   "outputs": [],
   "source": []
  }
 ],
 "metadata": {
  "kernelspec": {
   "display_name": "Python",
   "language": "python",
   "name": "default-py"
  }
 },
 "nbformat": 4,
 "nbformat_minor": 5
}
